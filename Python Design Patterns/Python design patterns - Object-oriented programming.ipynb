{
 "cells": [
  {
   "cell_type": "markdown",
   "metadata": {},
   "source": [
    "# Understanding Object-oriented programming\n",
    "\n",
    "## example of a class and object created:"
   ]
  },
  {
   "cell_type": "code",
   "execution_count": 1,
   "metadata": {
    "execution_event_id": "606afa27-364f-4abe-90cf-535bc5f63028",
    "last_executed_text": "class Person(object):\n    def __init__(self, name, age): #constructor\n        self.name = name #data members / attributes\n        self.age = age\n    def get_person(self,): #member function\n        return \"<Person (%s, %s)>\" % (self.name, self.age)",
    "persistent_id": "629928fd-81af-4040-be2a-4ce9a5a1628d"
   },
   "outputs": [],
   "source": [
    "class Person(object):\n",
    "    def __init__(self, name, age): #constructor\n",
    "        self.name = name #data members / attributes\n",
    "        self.age = age\n",
    "    def get_person(self,): #member function\n",
    "        return \"<Person (%s, %s)>\" % (self.name, self.age)"
   ]
  },
  {
   "cell_type": "code",
   "execution_count": 2,
   "metadata": {
    "execution_event_id": "e51091bb-6340-436b-bb52-9997d2d44549",
    "last_executed_text": "p = Person(\"John\", 32) #p is an object of type Person\nprint(\"Type of object: \", type(p), \"Memory Address:\", id(p))",
    "persistent_id": "627aa690-1985-467e-a5ea-94d7fbba3b6f"
   },
   "outputs": [
    {
     "name": "stdout",
     "output_type": "stream",
     "text": [
      "Type of object:  <class '__main__.Person'> Memory Address: 2242354154408\n"
     ]
    }
   ],
   "source": [
    "p = Person(\"John\", 32) #p is an object of type Person\n",
    "print(\"Type of object: \", type(p), \"Memory Address:\", id(p))"
   ]
  }
 ],
 "metadata": {
  "history": [
   {
    "cell": {
     "executionCount": 1,
     "executionEventId": "606afa27-364f-4abe-90cf-535bc5f63028",
     "hasError": false,
     "id": "1e74ec6b-9dcb-416c-b4a2-8ab3b6efeb17",
     "outputs": [],
     "persistentId": "629928fd-81af-4040-be2a-4ce9a5a1628d",
     "text": "class Person(object):\n    def __init__(self, name, age): #constructor\n        self.name = name #data members / attributes\n        self.age = age\n    def get_person(self,): #member function\n        return \"<Person (%s, %s)>\" % (self.name, self.age)"
    },
    "executionTime": "2021-06-03T05:17:01.561Z"
   },
   {
    "cell": {
     "executionCount": 2,
     "executionEventId": "e51091bb-6340-436b-bb52-9997d2d44549",
     "hasError": false,
     "id": "6e17ef96-beea-4ee9-b02c-5dd6f570edf4",
     "outputs": [
      {
       "name": "stdout",
       "output_type": "stream",
       "text": "Type of object:  <class '__main__.Person'> Memory Address: 2242354154408\n"
      }
     ],
     "persistentId": "627aa690-1985-467e-a5ea-94d7fbba3b6f",
     "text": "p = Person(\"John\", 32) #p is an object of type Person\nprint(\"Type of object: \", type(p), \"Memory Address:\", id(p))"
    },
    "executionTime": "2021-06-03T05:18:07.946Z"
   }
  ],
  "kernelspec": {
   "display_name": "Python 3",
   "language": "python",
   "name": "python3"
  },
  "language_info": {
   "codemirror_mode": {
    "name": "ipython",
    "version": 3
   },
   "file_extension": ".py",
   "mimetype": "text/x-python",
   "name": "python",
   "nbconvert_exporter": "python",
   "pygments_lexer": "ipython3",
   "version": "3.7.3"
  },
  "uuid": "f8417980-e4b9-4a75-bcfa-4febef8641b5"
 },
 "nbformat": 4,
 "nbformat_minor": 4
}
