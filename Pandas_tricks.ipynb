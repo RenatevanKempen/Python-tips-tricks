{
  "nbformat": 4,
  "nbformat_minor": 0,
  "metadata": {
    "colab": {
      "name": "Pandas tricks.ipynb",
      "provenance": [],
      "collapsed_sections": [],
      "include_colab_link": true
    },
    "kernelspec": {
      "name": "python3",
      "display_name": "Python 3"
    },
    "accelerator": "GPU"
  },
  "cells": [
    {
      "cell_type": "markdown",
      "metadata": {
        "id": "view-in-github",
        "colab_type": "text"
      },
      "source": [
        "<a href=\"https://colab.research.google.com/github/RenatevanKempen/Python-tips-tricks/blob/master/Pandas_tricks.ipynb\" target=\"_parent\"><img src=\"https://colab.research.google.com/assets/colab-badge.svg\" alt=\"Open In Colab\"/></a>"
      ]
    },
    {
      "cell_type": "markdown",
      "metadata": {
        "id": "OSav0FpxB5IN",
        "colab_type": "text"
      },
      "source": [
        "# Tips from Kevin Markham:\n",
        "Need to create a bunch of new columns based on existing columns? Use this pattern:"
      ]
    },
    {
      "cell_type": "code",
      "metadata": {
        "id": "JHQGj3faaAFL",
        "colab_type": "code",
        "colab": {}
      },
      "source": [
        "for col in df.columns:\n",
        "    df[f'{col}_new'] = df[col].apply(my_function)"
      ],
      "execution_count": 0,
      "outputs": []
    },
    {
      "cell_type": "markdown",
      "metadata": {
        "id": "DQ-0YpRgCNky",
        "colab_type": "text"
      },
      "source": [
        "![alt text](https://media.licdn.com/dms/image/C4E22AQESmfSQHSIjLQ/feedshare-shrink_800/0?e=1571875200&v=beta&t=iHvFdG0GTI8sV_li_JqP1XZ_KLBtzGPuiVrmbFrCfL4)"
      ]
    },
    {
      "cell_type": "markdown",
      "metadata": {
        "id": "qGJVVVS-xgd7",
        "colab_type": "text"
      },
      "source": [
        "![alt text](https://media.licdn.com/dms/image/C5622AQGmzzj4ngAlyg/feedshare-shrink_2048_1536/0?e=1571875200&v=beta&t=h637QbCet_XcTU7z8OZAr1MFVFDD5tx0eY9aLwCkYx8)"
      ]
    },
    {
      "cell_type": "code",
      "metadata": {
        "id": "GD0YBcoJCHx1",
        "colab_type": "code",
        "colab": {}
      },
      "source": [
        "#pandas trick # 71:\n",
        "#Want to extract tables from a PDF into a DataFrame? Try tabula-py!\n",
        "\n",
        "from tabula import read_pdf\n",
        "df = read_pdf('test.pdf', pages='all')\n",
        "\n",
        "#https://github.com/chezou/tabula-py"
      ],
      "execution_count": 0,
      "outputs": []
    }
  ]
}