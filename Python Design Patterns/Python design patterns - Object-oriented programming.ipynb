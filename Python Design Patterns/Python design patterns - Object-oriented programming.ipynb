{
 "cells": [
  {
   "cell_type": "markdown",
   "metadata": {},
   "source": [
    "# Understanding Object-oriented programming\n",
    "\n",
    "## example of a class and object created:"
   ]
  },
  {
   "cell_type": "code",
   "execution_count": 1,
   "metadata": {
    "execution_event_id": "606afa27-364f-4abe-90cf-535bc5f63028",
    "last_executed_text": "class Person(object):\n    def __init__(self, name, age): #constructor\n        self.name = name #data members / attributes\n        self.age = age\n    def get_person(self,): #member function\n        return \"<Person (%s, %s)>\" % (self.name, self.age)",
    "persistent_id": "629928fd-81af-4040-be2a-4ce9a5a1628d"
   },
   "outputs": [],
   "source": [
    "class Person(object):\n",
    "    def __init__(self, name, age): #constructor\n",
    "        self.name = name #data members / attributes\n",
    "        self.age = age\n",
    "    def get_person(self,): #member function\n",
    "        return \"<Person (%s, %s)>\" % (self.name, self.age)"
   ]
  },
  {
   "cell_type": "code",
   "execution_count": 3,
   "metadata": {
    "execution_event_id": "f100598f-f975-433e-a04c-073a766da4ab",
    "last_executed_text": "p = Person(\"John\", 32) #p is an object of type Person\nprint(\"Type of object: \", type(p), \"Memory Address:\", id(p))",
    "persistent_id": "627aa690-1985-467e-a5ea-94d7fbba3b6f"
   },
   "outputs": [
    {
     "name": "stdout",
     "output_type": "stream",
     "text": [
      "Type of object:  <class '__main__.Person'> Memory Address: 2242354153456\n"
     ]
    }
   ],
   "source": [
    "p = Person(\"John\", 32) #p is an object of type Person\n",
    "print(\"Type of object: \", type(p), \"Memory Address:\", id(p))"
   ]
  },
  {
   "cell_type": "code",
   "execution_count": 4,
   "metadata": {
    "execution_event_id": "d458f559-97ec-4283-bcc0-c35ab132d5f0",
    "last_executed_text": "## Polymorphism\na = \"John\"\nb = (1,2,3)\nc = [3,4,6,8,9]\nprint(a[1], b[0], c[2])",
    "persistent_id": "5e04ace4-eea8-494e-b347-ba339f99f9b2"
   },
   "outputs": [
    {
     "name": "stdout",
     "output_type": "stream",
     "text": [
      "o 1 6\n"
     ]
    }
   ],
   "source": [
    "## Polymorphism\n",
    "a = \"John\"\n",
    "b = (1,2,3)\n",
    "c = [3,4,6,8,9]\n",
    "print(a[1], b[0], c[2])"
   ]
  },
  {
   "cell_type": "code",
   "execution_count": 5,
   "metadata": {
    "execution_event_id": "4936f0cd-1eda-42d8-a093-9e82d74a42c0",
    "last_executed_text": "#Inheritance\n\nclass A:\n    def a1(self):\n        print(\"a1\")\n\nclass B(A):\n    def b(self):\n        print(\"b\")\n        \nb = B()\nb.a1()\n",
    "persistent_id": "f0bb1d3f-8878-4a9a-9881-a4367b1f1c7c"
   },
   "outputs": [
    {
     "name": "stdout",
     "output_type": "stream",
     "text": [
      "a1\n"
     ]
    }
   ],
   "source": [
    "#Inheritance\n",
    "\n",
    "class A:\n",
    "    def a1(self):\n",
    "        print(\"a1\")\n",
    "\n",
    "class B(A):\n",
    "    def b(self):\n",
    "        print(\"b\")\n",
    "        \n",
    "b = B()\n",
    "b.a1()\n"
   ]
  },
  {
   "cell_type": "code",
   "execution_count": 6,
   "metadata": {
    "execution_event_id": "7c1c8c3f-37f9-4378-ac82-eb996b92f787",
    "last_executed_text": "#Abstraction\n\nclass Adder:\n    def __init__(self):\n        self.sum = 0\n    def add(self, value):\n        self.sum += value\n        \nacc = Adder()\nfor i in range(99):\n    acc.add(i)\n    \nprint(acc.sum)",
    "persistent_id": "df016e74-c784-474a-8cac-23ac986a0df6"
   },
   "outputs": [
    {
     "name": "stdout",
     "output_type": "stream",
     "text": [
      "4851\n"
     ]
    }
   ],
   "source": [
    "#Abstraction\n",
    "\n",
    "class Adder:\n",
    "    def __init__(self):\n",
    "        self.sum = 0\n",
    "    def add(self, value):\n",
    "        self.sum += value\n",
    "        \n",
    "acc = Adder()\n",
    "for i in range(99):\n",
    "    acc.add(i)\n",
    "    \n",
    "print(acc.sum)"
   ]
  },
  {
   "cell_type": "code",
   "execution_count": null,
   "metadata": {},
   "outputs": [],
   "source": []
  }
 ],
 "metadata": {
  "history": [
   {
    "cell": {
     "executionCount": 1,
     "executionEventId": "606afa27-364f-4abe-90cf-535bc5f63028",
     "hasError": false,
     "id": "1e74ec6b-9dcb-416c-b4a2-8ab3b6efeb17",
     "outputs": [],
     "persistentId": "629928fd-81af-4040-be2a-4ce9a5a1628d",
     "text": "class Person(object):\n    def __init__(self, name, age): #constructor\n        self.name = name #data members / attributes\n        self.age = age\n    def get_person(self,): #member function\n        return \"<Person (%s, %s)>\" % (self.name, self.age)"
    },
    "executionTime": "2021-06-03T05:17:01.561Z"
   },
   {
    "cell": {
     "executionCount": 2,
     "executionEventId": "e51091bb-6340-436b-bb52-9997d2d44549",
     "hasError": false,
     "id": "6e17ef96-beea-4ee9-b02c-5dd6f570edf4",
     "outputs": [
      {
       "name": "stdout",
       "output_type": "stream",
       "text": "Type of object:  <class '__main__.Person'> Memory Address: 2242354154408\n"
      }
     ],
     "persistentId": "627aa690-1985-467e-a5ea-94d7fbba3b6f",
     "text": "p = Person(\"John\", 32) #p is an object of type Person\nprint(\"Type of object: \", type(p), \"Memory Address:\", id(p))"
    },
    "executionTime": "2021-06-03T05:18:07.946Z"
   },
   {
    "cell": {
     "executionCount": 3,
     "executionEventId": "f100598f-f975-433e-a04c-073a766da4ab",
     "hasError": false,
     "id": "6e17ef96-beea-4ee9-b02c-5dd6f570edf4",
     "outputs": [
      {
       "name": "stdout",
       "output_type": "stream",
       "text": "Type of object:  <class '__main__.Person'> Memory Address: 2242354153456\n"
      }
     ],
     "persistentId": "627aa690-1985-467e-a5ea-94d7fbba3b6f",
     "text": "p = Person(\"John\", 32) #p is an object of type Person\nprint(\"Type of object: \", type(p), \"Memory Address:\", id(p))"
    },
    "executionTime": "2021-06-03T05:25:37.591Z"
   },
   {
    "cell": {
     "executionCount": 4,
     "executionEventId": "d458f559-97ec-4283-bcc0-c35ab132d5f0",
     "hasError": false,
     "id": "e985ca8e-1d0e-473a-91dc-bdfd7563133c",
     "outputs": [
      {
       "name": "stdout",
       "output_type": "stream",
       "text": "o 1 6\n"
      }
     ],
     "persistentId": "5e04ace4-eea8-494e-b347-ba339f99f9b2",
     "text": "## Polymorphism\na = \"John\"\nb = (1,2,3)\nc = [3,4,6,8,9]\nprint(a[1], b[0], c[2])"
    },
    "executionTime": "2021-06-03T05:26:34.265Z"
   },
   {
    "cell": {
     "executionCount": 5,
     "executionEventId": "4936f0cd-1eda-42d8-a093-9e82d74a42c0",
     "hasError": false,
     "id": "eca62be4-6e2e-4a0a-b7a5-8647426ac1c0",
     "outputs": [
      {
       "name": "stdout",
       "output_type": "stream",
       "text": "a1\n"
      }
     ],
     "persistentId": "f0bb1d3f-8878-4a9a-9881-a4367b1f1c7c",
     "text": "#Inheritance\n\nclass A:\n    def a1(self):\n        print(\"a1\")\n\nclass B(A):\n    def b(self):\n        print(\"b\")\n        \nb = B()\nb.a1()\n"
    },
    "executionTime": "2021-06-05T06:12:51.540Z"
   },
   {
    "cell": {
     "executionCount": 6,
     "executionEventId": "7c1c8c3f-37f9-4378-ac82-eb996b92f787",
     "hasError": false,
     "id": "0fe15f4f-76f0-4f96-9eab-e2970ed6847e",
     "outputs": [
      {
       "name": "stdout",
       "output_type": "stream",
       "text": "4851\n"
      }
     ],
     "persistentId": "df016e74-c784-474a-8cac-23ac986a0df6",
     "text": "#Abstraction\n\nclass Adder:\n    def __init__(self):\n        self.sum = 0\n    def add(self, value):\n        self.sum += value\n        \nacc = Adder()\nfor i in range(99):\n    acc.add(i)\n    \nprint(acc.sum)"
    },
    "executionTime": "2021-06-05T06:15:35.995Z"
   }
  ],
  "kernelspec": {
   "display_name": "Python 3",
   "language": "python",
   "name": "python3"
  },
  "language_info": {
   "codemirror_mode": {
    "name": "ipython",
    "version": 3
   },
   "file_extension": ".py",
   "mimetype": "text/x-python",
   "name": "python",
   "nbconvert_exporter": "python",
   "pygments_lexer": "ipython3",
   "version": "3.7.3"
  },
  "uuid": "f8417980-e4b9-4a75-bcfa-4febef8641b5"
 },
 "nbformat": 4,
 "nbformat_minor": 4
}
