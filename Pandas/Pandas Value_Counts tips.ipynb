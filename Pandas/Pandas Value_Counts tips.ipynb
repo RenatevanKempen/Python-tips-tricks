{
 "cells": [
  {
   "cell_type": "markdown",
   "metadata": {},
   "source": [
    "# Pandas Value_Counts() tips\n",
    "How to use Value_Counts() for more insights"
   ]
  },
  {
   "cell_type": "markdown",
   "metadata": {
    "persistent_id": "cfa46e60-9fb0-4c5d-bbc5-528772355057"
   },
   "source": [
    "[original blog](https://opendatascience.com/getting-more-value-from-the-pandas-value_counts/?utm_campaign=Newsletters&utm_source=hs_email&utm_medium=email&utm_content=87915595&_hsenc=p2ANqtz-9JIlh1X1RKY1UvhLkvRKk_E8fAwDQsaOxBi9VxrBuuXsKirUZ2iyl9qPGzVLGNrtc7WVzZAtBWzeQz3vj0oWupxt2H-w&_hsmi=87915595) from Parul Pandey\n"
   ]
  },
  {
   "cell_type": "markdown",
   "metadata": {},
   "source": [
    "## value_counts()\n",
    "The value_counts() method returns a Series containing the counts of unique values. This means, for any column in a dataframe, this method returns the count of unique entries in that column.\n",
    "\n",
    "## Syntax\n",
    "Series.value_counts()\n",
    "\n",
    "## Parameters\n",
    "\n",
    "### normalize: bool, default False\n",
    "If True then the object returned will contain the relative frequencies of the unique values.\n",
    "\n",
    "### sort: bool, default True\n",
    "Sort by frequencies.\n",
    "\n",
    "### ascending: bool, default False\n",
    "Sort in ascending order.\n",
    "\n",
    "### bins: int, optional\n",
    "Rather than count values, group them into half-open bins, a convenience for pd.cut, only works with numeric data.\n",
    "\n",
    "### dropna: bool, default True\n",
    "Don’t include counts of NaN.\n",
    "\n",
    "\n",
    "[original docs](https://pandas.pydata.org/pandas-docs/stable/reference/api/pandas.Series.value_counts.html)"
   ]
  },
  {
   "cell_type": "markdown",
   "metadata": {
    "persistent_id": "0d689cdd-7fad-4da8-96da-baa996486f59"
   },
   "source": [
    "## 1. value_counts() with default parameters\n",
    "If you call the value_counts() on a column of the dataset, it will return the count of unique occurrences in this column."
   ]
  },
  {
   "cell_type": "markdown",
   "metadata": {},
   "source": [
    "## 2. value_counts() with relative frequencies of the unique values\n",
    "Sometimes, getting a percentage is a better criterion then the count. By setting normalize=True, the object returned will contain the relative frequencies of the unique values. The normalize parameter is set to False by default."
   ]
  },
  {
   "cell_type": "markdown",
   "metadata": {
    "persistent_id": "d26ed059-8d72-4c5e-b5ba-cb4e8fe11c42"
   },
   "source": [
    "## 3. value_counts() in ascending order\n",
    "The series returned by value_counts() is in descending order by default. We can reverse the case by setting the ascending parameter to True ."
   ]
  },
  {
   "cell_type": "markdown",
   "metadata": {
    "persistent_id": "47e69928-ad5d-440a-be3d-141860e9d1c6"
   },
   "source": [
    "## 4. value_counts() displaying the NaN values\n",
    "By default, the count of null values is excluded from the result. But, the same can be displayed easily by setting the dropna parameter to False ."
   ]
  },
  {
   "cell_type": "markdown",
   "metadata": {},
   "source": [
    "## 5. value_counts() to bin, continuous data into discrete intervals\n",
    "This is one of my favorite uses of the value_counts() function and an underutilized one too. value_counts() can be used to bin continuous data into discrete intervals with the help of the bin parameter. This option works only with numerical data. It is similar to the pd.cut function."
   ]
  },
  {
   "cell_type": "code",
   "execution_count": null,
   "metadata": {},
   "outputs": [],
   "source": []
  }
 ],
 "metadata": {
  "history": [],
  "kernelspec": {
   "display_name": "Python 3",
   "language": "python",
   "name": "python3"
  },
  "language_info": {
   "codemirror_mode": {
    "name": "ipython",
    "version": 3
   },
   "file_extension": ".py",
   "mimetype": "text/x-python",
   "name": "python",
   "nbconvert_exporter": "python",
   "pygments_lexer": "ipython3",
   "version": "3.7.3"
  },
  "uuid": "3370e0a5-2962-4c63-a60c-a9124c1dc405"
 },
 "nbformat": 4,
 "nbformat_minor": 4
}
