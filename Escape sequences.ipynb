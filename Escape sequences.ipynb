{
 "cells": [
  {
   "cell_type": "markdown",
   "metadata": {},
   "source": [
    "# Let's try some escape sequences and some inputs. "
   ]
  },
  {
   "cell_type": "markdown",
   "metadata": {},
   "source": [
    "## Escape sequences\n",
    "Here is a list with the escape sequences. Let's try to use them in a couple of strings."
   ]
  },
  {
   "cell_type": "markdown",
   "metadata": {},
   "source": [
    "|Escape|Explaination|\n",
    "|------|-------|\n",
    "| \\\\\\ | Backslash (\\\\)|\n",
    "|\\\\'| Single Quote (')|\n",
    "|\\\\\"| Double Quote(\")|\n",
    "|\\\\a| ASCII bell (BEL)|\n",
    "|\\\\b| ASCII backspace (BS)|\n",
    "|\\\\f| ASCII formfeed (FF)|\n",
    "|\\\\n| ASCII linefeed (LF)|\n",
    "|\\\\N{name}| Character names name in the Unicode database (Unicode only)|\n",
    "|\\\\r| Carriage return (CR)|\n",
    "|\\\\t|Horizontal tab (TAB)|\n",
    "|\\\\uxxxx| Character with 16-bit hex value xxxx|\n",
    "|\\\\Uxxxxxxxx| Character with 32-bit hex value xxxxxxxx|\n",
    "|\\\\v| ASCII vertical tab (VT)|\n",
    "|\\\\000| Character with octal value 000|\n",
    "|\\\\xhhh| Character with hex value hh|\n",
    "|\\'''| use in print statements for text and outside print for quotes|\n",
    "|\\\"\"\"\"| use in print statements for text and outside print for quotes|"
   ]
  },
  {
   "cell_type": "code",
   "execution_count": 2,
   "metadata": {},
   "outputs": [
    {
     "name": "stdout",
     "output_type": "stream",
     "text": [
      "let's find out what some of these \" do.\n"
     ]
    }
   ],
   "source": [
    "print('let\\'s find out what some of these \\\" do.')"
   ]
  },
  {
   "cell_type": "code",
   "execution_count": 3,
   "metadata": {},
   "outputs": [
    {
     "name": "stdout",
     "output_type": "stream",
     "text": [
      "what does the ASCII bell = \u0007 do for example\n"
     ]
    }
   ],
   "source": [
    "print('what does the ASCII bell = \\a do for example')"
   ]
  },
  {
   "cell_type": "code",
   "execution_count": 5,
   "metadata": {},
   "outputs": [
    {
     "name": "stdout",
     "output_type": "stream",
     "text": [
      "and how about the ASCII backspace =?\n",
      "ahh, that removed a space ;-)\n"
     ]
    }
   ],
   "source": [
    "print('and how about the ASCII backspace = \\b?')\n",
    "print('ahh, that removed a space ;-)')"
   ]
  },
  {
   "cell_type": "code",
   "execution_count": 7,
   "metadata": {},
   "outputs": [
    {
     "name": "stdout",
     "output_type": "stream",
     "text": [
      "let's try some other escapes, like \\n \n",
      " for linefeed (new line)\n"
     ]
    }
   ],
   "source": [
    "print('let\\'s try some other escapes, like \\\\n \\n for linefeed (new line)')"
   ]
  },
  {
   "cell_type": "code",
   "execution_count": 12,
   "metadata": {},
   "outputs": [
    {
     "ename": "SyntaxError",
     "evalue": "(unicode error) 'unicodeescape' codec can't decode bytes in position 0-7: unknown Unicode character name (<ipython-input-12-14c5787792e0>, line 2)",
     "output_type": "error",
     "traceback": [
      "\u001b[1;36m  File \u001b[1;32m\"<ipython-input-12-14c5787792e0>\"\u001b[1;36m, line \u001b[1;32m2\u001b[0m\n\u001b[1;33m    print('\\N{test}')\u001b[0m\n\u001b[1;37m         ^\u001b[0m\n\u001b[1;31mSyntaxError\u001b[0m\u001b[1;31m:\u001b[0m (unicode error) 'unicodeescape' codec can't decode bytes in position 0-7: unknown Unicode character name\n"
     ]
    }
   ],
   "source": [
    "print('Okay, and what about \\\\N{name}, what does this do for example?')\n",
    "print('\\N{test}')"
   ]
  },
  {
   "cell_type": "code",
   "execution_count": 16,
   "metadata": {},
   "outputs": [
    {
     "name": "stdout",
     "output_type": "stream",
     "text": [
      "Right, \\N is only for unicode, so we get an error.\n",
      ", what is \\r\n",
      "seems that this deletes all before the \\r!\n"
     ]
    }
   ],
   "source": [
    "print('Right, \\\\N is only for unicode, so we get an error.')\n",
    "print('how about \\\\r:'  '\\r, what is \\\\r')\n",
    "print('seems that this deletes all before the \\\\r!')"
   ]
  },
  {
   "cell_type": "code",
   "execution_count": 18,
   "metadata": {},
   "outputs": [
    {
     "name": "stdout",
     "output_type": "stream",
     "text": [
      "\t This is a horizontal tab: \\t\n"
     ]
    }
   ],
   "source": [
    "print('\\t This is a horizontal tab: \\\\t')"
   ]
  },
  {
   "cell_type": "code",
   "execution_count": 19,
   "metadata": {},
   "outputs": [
    {
     "name": "stdout",
     "output_type": "stream",
     "text": [
      "\u000b",
      " This is a vertical tab: \\v\n"
     ]
    }
   ],
   "source": [
    "print('\\v This is a vertical tab: \\\\v')"
   ]
  },
  {
   "cell_type": "code",
   "execution_count": 20,
   "metadata": {},
   "outputs": [
    {
     "name": "stdout",
     "output_type": "stream",
     "text": [
      "this is a comment possibility. I can write as many lines as I want\n",
      "on different lines with \" and ' in this without\n",
      "having to make new print statements or additional quotes around the text\n",
      "this works great!\n"
     ]
    }
   ],
   "source": [
    "print('''this is a comment possibility. I can write as many lines as I want\n",
    "on different lines with \" and ' in this without\n",
    "having to make new print statements or additional quotes around the text\n",
    "this works great!''')"
   ]
  },
  {
   "cell_type": "code",
   "execution_count": 26,
   "metadata": {},
   "outputs": [
    {
     "name": "stdout",
     "output_type": "stream",
     "text": [
      "If I use double quotes, \n",
      "what does this do?\n"
     ]
    },
    {
     "data": {
      "text/plain": [
       "'This makes it a comment and I do not have to use print before'"
      ]
     },
     "execution_count": 26,
     "metadata": {},
     "output_type": "execute_result"
    }
   ],
   "source": [
    "print(\"\"\"If I use double quotes, \n",
    "what does this do?\"\"\")\n",
    "\"\"\"This makes it a comment and I do not have to use print before\"\"\""
   ]
  },
  {
   "cell_type": "code",
   "execution_count": 24,
   "metadata": {},
   "outputs": [
    {
     "data": {
      "text/plain": [
       "'Try without print with single quotes'"
      ]
     },
     "execution_count": 24,
     "metadata": {},
     "output_type": "execute_result"
    }
   ],
   "source": [
    "'''Try without print with single quotes'''"
   ]
  },
  {
   "cell_type": "code",
   "execution_count": 25,
   "metadata": {},
   "outputs": [
    {
     "data": {
      "text/plain": [
       "'Try without print\\non different lines\\nto see what it does, using single quotes'"
      ]
     },
     "execution_count": 25,
     "metadata": {},
     "output_type": "execute_result"
    }
   ],
   "source": [
    "'''Try without print\n",
    "on different lines\n",
    "to see what it does, using single quotes'''"
   ]
  },
  {
   "cell_type": "markdown",
   "metadata": {},
   "source": [
    "## Input variables "
   ]
  },
  {
   "cell_type": "code",
   "execution_count": null,
   "metadata": {},
   "outputs": [
    {
     "name": "stdout",
     "output_type": "stream",
     "text": [
      "How old are you? "
     ]
    }
   ],
   "source": [
    "print(\"How old are you?\", end = ' ')\n",
    "age = input()\n",
    "print(\"How tall are ou?\", end = ' ')\n",
    "height = input()\n",
    "print(\"How much do you weigh?\", end = ' ')\n",
    "weight = input()\n",
    "\n",
    "print(f\"So, you're {age} old, {height} tall and {weight} heavy.\")"
   ]
  },
  {
   "cell_type": "code",
   "execution_count": null,
   "metadata": {},
   "outputs": [],
   "source": []
  }
 ],
 "metadata": {
  "kernelspec": {
   "display_name": "Python 3",
   "language": "python",
   "name": "python3"
  },
  "language_info": {
   "codemirror_mode": {
    "name": "ipython",
    "version": 3
   },
   "file_extension": ".py",
   "mimetype": "text/x-python",
   "name": "python",
   "nbconvert_exporter": "python",
   "pygments_lexer": "ipython3",
   "version": "3.7.3"
  }
 },
 "nbformat": 4,
 "nbformat_minor": 2
}
