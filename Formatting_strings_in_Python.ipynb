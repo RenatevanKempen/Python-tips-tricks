{
  "nbformat": 4,
  "nbformat_minor": 0,
  "metadata": {
    "colab": {
      "name": "Formatting strings in Python.ipynb",
      "provenance": [],
      "include_colab_link": true
    },
    "kernelspec": {
      "name": "python3",
      "display_name": "Python 3"
    }
  },
  "cells": [
    {
      "cell_type": "markdown",
      "metadata": {
        "id": "view-in-github",
        "colab_type": "text"
      },
      "source": [
        "<a href=\"https://colab.research.google.com/github/RenatevanKempen/Python-tips-tricks/blob/master/Formatting_strings_in_Python.ipynb\" target=\"_parent\"><img src=\"https://colab.research.google.com/assets/colab-badge.svg\" alt=\"Open In Colab\"/></a>"
      ]
    },
    {
      "cell_type": "markdown",
      "metadata": {
        "id": "HnZr6cTXeFBH",
        "colab_type": "text"
      },
      "source": [
        "Python comes with numerous ways of formatting strings:\n",
        "\n",
        "New style .format(), which supports a rich formatting mini-language:\n",
        "\n",
        ">>> temperature = 10\n",
        ">>> print(\"the furnace is now {} degrees!\".format(temperature))\n",
        "the furnace is now 10 degrees!\n",
        "\n",
        "Old style % format specifier:\n",
        "\n",
        ">>> print(\"the furnace is now %d degrees!\" % temperature)\n",
        "the furnace is now 10 degrees!\n",
        "\n",
        "In Py 3.6 using the new f\"\" format strings:\n",
        "\n",
        ">>> print(f\"the furnace is now {temperature} degrees!\")\n",
        "the furnace is now 10 degrees!\n",
        "\n",
        "Or using print()s default separator:\n",
        "\n",
        ">>> print(\"the furnace is now\", temperature, \"degrees!\")\n",
        "the furnace is now 10 degrees!\n",
        "\n",
        "And least effectively, construct a new string by casting it to a str() and concatenating:\n",
        "\n",
        ">>> print(\"the furnace is now \" + str(temperature) + \" degrees!\")\n",
        "the furnace is now 10 degrees!\n",
        "\n",
        "Or join()ing it:\n",
        "\n",
        ">>> print(' '.join([\"the furnace is now\", str(temperature), \"degrees!\"]))\n",
        "the furnace is now 10 degrees!"
      ]
    },
    {
      "cell_type": "code",
      "metadata": {
        "id": "GS4xsbhkeB2Y",
        "colab_type": "code",
        "colab": {}
      },
      "source": [
        ""
      ],
      "execution_count": 0,
      "outputs": []
    }
  ]
}